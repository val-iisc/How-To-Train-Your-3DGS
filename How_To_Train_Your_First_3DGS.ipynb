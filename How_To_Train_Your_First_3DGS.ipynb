{
  "nbformat": 4,
  "nbformat_minor": 0,
  "metadata": {
    "colab": {
      "provenance": [],
      "gpuType": "T4"
    },
    "kernelspec": {
      "name": "python3",
      "display_name": "Python 3"
    },
    "language_info": {
      "name": "python"
    },
    "accelerator": "GPU"
  },
  "cells": [
    {
      "cell_type": "markdown",
      "metadata": {
        "id": "610662a3"
      },
      "source": [
        "This notebook is currently running on a local machine. Some functionality, like file uploading using `google.colab.files.upload()`, is only available when running in a Google Colab environment."
      ]
    },
    {
      "cell_type": "markdown",
      "metadata": {
        "id": "d05f2f5a"
      },
      "source": [
        "## System Requirements\n",
        "\n",
        "* Linux machine (Ubuntu 20.04 or later)\n",
        "* GPU card (A6000 45 GB)\n",
        "* Minimum CUDA Toolkit version: 11.8"
      ]
    },
    {
      "cell_type": "markdown",
      "metadata": {
        "id": "db760bb3"
      },
      "source": [
        "### **Extract Frames from the video using ffmpeg**\n"
      ]
    },
    {
      "cell_type": "code",
      "source": [
        "VIDEO_PATH=\"/data/ankit_phd/Tutorial/iisc_scene/iisc.mp4\"\n",
        "OUTPUT_DIR=\"/data/ankit_phd/Tutorial/iisc_scene\"\n",
        "%cd {OUTPUT_DIR}\n",
        "%mkdir {OUTPUT_DIR}/images\n",
        "#Adjust the FPS such that you have roughly 120 frames. This will fit in 48 GB card. If you have more memory, increase the fps accordingly\n",
        "!ffmpeg -i {VIDEO_PATH} -vf fps=0.60 images/%05d.png"
      ],
      "metadata": {
        "id": "IJqBDCAw16PJ"
      },
      "execution_count": null,
      "outputs": []
    },
    {
      "cell_type": "markdown",
      "metadata": {
        "id": "e097813d"
      },
      "source": [
        "## Clone the VGGT codebase\n",
        "\n",
        "### Subtask:\n",
        "Clone the VGGT codebase from its repository.\n",
        "\n",
        "\n",
        "\n",
        "```\n",
        "!git clone https://github.com/facebookresearch/vggt.git\n",
        "```\n",
        "\n",
        "\n"
      ]
    },
    {
      "cell_type": "markdown",
      "metadata": {
        "id": "5fd40ef5"
      },
      "source": [
        "## Install dependencies\n",
        "\n",
        "Install the required libraries and dependencies for running `demo_colmap`.\n",
        "\n",
        "\n",
        "\n",
        "```\n",
        "!pip install -r requirements.txt\n",
        "!pip install -r requirements_demo.txt\n",
        "```\n",
        "\n"
      ]
    },
    {
      "cell_type": "code",
      "source": [
        "!which pip"
      ],
      "metadata": {
        "id": "G-ZYypdb1ApE"
      },
      "execution_count": null,
      "outputs": []
    },
    {
      "cell_type": "markdown",
      "metadata": {
        "id": "c6359059"
      },
      "source": [
        "## **Run demo_colmap to estimate camera poses and sparse point cloud**\n",
        "\n",
        "Run the `demo_colmap` script from the VGGT codebase on the extracted frames."
      ]
    },
    {
      "cell_type": "code",
      "source": [
        "SCENE_DIR=\"/data/ankit_phd/Tutorial/iisc_scene\"\n",
        "VGGT_DIR=\"/data/ankit_phd/Projects/VGGT_Exploration/vggt\""
      ],
      "metadata": {
        "id": "4pUL26YPpDK1"
      },
      "execution_count": null,
      "outputs": []
    },
    {
      "cell_type": "code",
      "metadata": {
        "id": "7fd5865c"
      },
      "source": [
        "#Run the VGGT for getting the COLMAP\n",
        "%cd {VGGT_DIR}\n",
        "!CUDA_VISIBLE_DEVICES=1 python demo_colmap.py --scene_dir={SCENE_DIR} --use_ba\n",
        "print(f\"Current working directory: %pwd\")"
      ],
      "execution_count": null,
      "outputs": []
    },
    {
      "cell_type": "code",
      "source": [
        "#Small hack to make output of VGGT compatible with 3dgs\n",
        "%mkdir {SCENE_DIR}/sparse/0\n",
        "%mv {SCENE_DIR}/sparse/*.bin {SCENE_DIR}/sparse/0\n",
        "%mv {SCENE_DIR}/sparse/*.ply {SCENE_DIR}/sparse/0"
      ],
      "metadata": {
        "id": "nq5RhTYSN1-B"
      },
      "execution_count": null,
      "outputs": []
    },
    {
      "cell_type": "markdown",
      "metadata": {
        "id": "8db78b56"
      },
      "source": [
        "## Run 3D Gaussian Splatting (3DGS)\n",
        "\n",
        "### Subtask:\n",
        "Run 3D Gaussian Splatting (3DGS) using the estimated camera poses and sparse point cloud output generated in the previous step."
      ]
    },
    {
      "cell_type": "code",
      "source": [
        "NVS_DIR=\"/data/ankit_phd/Projects/gsplat/examples\"\n",
        "%cd {NVS_DIR}\n",
        "OUTPUT_DIR=\"/data/ankit_phd/data/Samsung_Tutorial/output_gsplat\"\n",
        "!CUDA_VISIBLE_DEVICES=1 python simple_trainer.py default --data_dir {SCENE_DIR} --data_factor 1 --result_dir {OUTPUT_DIR}"
      ],
      "metadata": {
        "id": "mwZPMBkuFK6s"
      },
      "execution_count": null,
      "outputs": []
    },
    {
      "cell_type": "markdown",
      "source": [
        "## Visualize 3D Gaussian Splatting (3DGS)\n",
        "\n",
        "Use Viser to visualize the final output."
      ],
      "metadata": {
        "id": "jqPORJDGvKcv"
      }
    },
    {
      "cell_type": "code",
      "source": [
        "NVS_DIR=\"/data/ankit_phd/Projects/gsplat/examples\"\n",
        "%cd {NVS_DIR}\n",
        "CKPT_PATH=\"/data/ankit_phd/Projects/gsplat/examples/{{OUTPUT_DIR}/ckpts/ckpt_29999_rank0.pt\"\n",
        "!CUDA_VISIBLE_DEVICES=1  python simple_viewer.py --ckpt  {CKPT_PATH} --port 8081"
      ],
      "metadata": {
        "id": "zb_0YM1x77K7",
        "colab": {
          "base_uri": "https://localhost:8080/",
          "height": 1000
        },
        "outputId": "e55a4549-f1de-49dd-9dab-443f7b04659a"
      },
      "execution_count": null,
      "outputs": [
        {
          "output_type": "stream",
          "name": "stderr",
          "text": [
            "/home/test/anaconda3/envs/3dgs/lib/python3.10/site-packages/IPython/core/magics/osm.py:417: UserWarning: This is now an optional IPython functionality, setting dhist requires you to install the `pickleshare` library.\n",
            "  self.shell.db['dhist'] = compress_dhist(dhist)[-100:]\n"
          ]
        },
        {
          "output_type": "stream",
          "name": "stdout",
          "text": [
            "/data/ankit_phd/Projects/gsplat/examples\n",
            "Number of Gaussians: 2308746\n",
            "╭──────────────── \u001b[1mviser\u001b[0m ────────────────╮\n",
            "│             ╷                         │\n",
            "│   HTTP      │ http://localhost:8081   │\n",
            "│   Websocket │ ws://localhost:8081     │\n",
            "│             ╵                         │\n",
            "╰───────────────────────────────────────╯\n",
            "Viewer running... Ctrl+C to exit.\n",
            "^C\n",
            "Traceback (most recent call last):\n",
            "  File \"/data/ankit_phd/Projects/gsplat/examples/simple_viewer.py\", line 248, in <module>\n",
            "    cli(main, args, verbose=True)\n",
            "  File \"/home/test/anaconda3/envs/3dgs/lib/python3.10/site-packages/gsplat/distributed.py\", line 360, in cli\n",
            "    return _distributed_worker(0, 1, fn=fn, args=args)\n",
            "  File \"/home/test/anaconda3/envs/3dgs/lib/python3.10/site-packages/gsplat/distributed.py\", line 295, in _distributed_worker\n",
            "    fn(local_rank, world_rank, world_size, args)\n",
            "  File \"/data/ankit_phd/Projects/gsplat/examples/simple_viewer.py\", line 213, in main\n",
            "    time.sleep(100000)\n",
            "KeyboardInterrupt\n"
          ]
        },
        {
          "output_type": "error",
          "ename": "KeyboardInterrupt",
          "evalue": "",
          "traceback": [
            "\u001b[0;31m---------------------------------------------------------------------------\u001b[0m",
            "\u001b[0;31mKeyboardInterrupt\u001b[0m                         Traceback (most recent call last)",
            "File \u001b[0;32m~/anaconda3/envs/3dgs/lib/python3.10/site-packages/IPython/utils/_process_posix.py:156\u001b[0m, in \u001b[0;36mProcessHandler.system\u001b[0;34m(self, cmd)\u001b[0m\n\u001b[1;32m    153\u001b[0m \u001b[38;5;28;01mwhile\u001b[39;00m \u001b[38;5;28;01mTrue\u001b[39;00m:\n\u001b[1;32m    154\u001b[0m     \u001b[38;5;66;03m# res is the index of the pattern that caused the match, so we\u001b[39;00m\n\u001b[1;32m    155\u001b[0m     \u001b[38;5;66;03m# know whether we've finished (if we matched EOF) or not\u001b[39;00m\n\u001b[0;32m--> 156\u001b[0m     res_idx \u001b[38;5;241m=\u001b[39m \u001b[43mchild\u001b[49m\u001b[38;5;241;43m.\u001b[39;49m\u001b[43mexpect_list\u001b[49m\u001b[43m(\u001b[49m\u001b[43mpatterns\u001b[49m\u001b[43m,\u001b[49m\u001b[43m \u001b[49m\u001b[38;5;28;43mself\u001b[39;49m\u001b[38;5;241;43m.\u001b[39;49m\u001b[43mread_timeout\u001b[49m\u001b[43m)\u001b[49m\n\u001b[1;32m    157\u001b[0m     \u001b[38;5;28mprint\u001b[39m(child\u001b[38;5;241m.\u001b[39mbefore[out_size:]\u001b[38;5;241m.\u001b[39mdecode(enc, \u001b[38;5;124m'\u001b[39m\u001b[38;5;124mreplace\u001b[39m\u001b[38;5;124m'\u001b[39m), end\u001b[38;5;241m=\u001b[39m\u001b[38;5;124m'\u001b[39m\u001b[38;5;124m'\u001b[39m)\n",
            "File \u001b[0;32m~/anaconda3/envs/3dgs/lib/python3.10/site-packages/pexpect/spawnbase.py:383\u001b[0m, in \u001b[0;36mSpawnBase.expect_list\u001b[0;34m(self, pattern_list, timeout, searchwindowsize, async_, **kw)\u001b[0m\n\u001b[1;32m    382\u001b[0m \u001b[38;5;28;01melse\u001b[39;00m:\n\u001b[0;32m--> 383\u001b[0m     \u001b[38;5;28;01mreturn\u001b[39;00m \u001b[43mexp\u001b[49m\u001b[38;5;241;43m.\u001b[39;49m\u001b[43mexpect_loop\u001b[49m\u001b[43m(\u001b[49m\u001b[43mtimeout\u001b[49m\u001b[43m)\u001b[49m\n",
            "File \u001b[0;32m~/anaconda3/envs/3dgs/lib/python3.10/site-packages/pexpect/expect.py:169\u001b[0m, in \u001b[0;36mExpecter.expect_loop\u001b[0;34m(self, timeout)\u001b[0m\n\u001b[1;32m    168\u001b[0m \u001b[38;5;66;03m# Still have time left, so read more data\u001b[39;00m\n\u001b[0;32m--> 169\u001b[0m incoming \u001b[38;5;241m=\u001b[39m \u001b[43mspawn\u001b[49m\u001b[38;5;241;43m.\u001b[39;49m\u001b[43mread_nonblocking\u001b[49m\u001b[43m(\u001b[49m\u001b[43mspawn\u001b[49m\u001b[38;5;241;43m.\u001b[39;49m\u001b[43mmaxread\u001b[49m\u001b[43m,\u001b[49m\u001b[43m \u001b[49m\u001b[43mtimeout\u001b[49m\u001b[43m)\u001b[49m\n\u001b[1;32m    170\u001b[0m \u001b[38;5;28;01mif\u001b[39;00m \u001b[38;5;28mself\u001b[39m\u001b[38;5;241m.\u001b[39mspawn\u001b[38;5;241m.\u001b[39mdelayafterread \u001b[38;5;129;01mis\u001b[39;00m \u001b[38;5;129;01mnot\u001b[39;00m \u001b[38;5;28;01mNone\u001b[39;00m:\n",
            "File \u001b[0;32m~/anaconda3/envs/3dgs/lib/python3.10/site-packages/pexpect/pty_spawn.py:500\u001b[0m, in \u001b[0;36mspawn.read_nonblocking\u001b[0;34m(self, size, timeout)\u001b[0m\n\u001b[1;32m    497\u001b[0m \u001b[38;5;66;03m# Because of the select(0) check above, we know that no data\u001b[39;00m\n\u001b[1;32m    498\u001b[0m \u001b[38;5;66;03m# is available right now. But if a non-zero timeout is given\u001b[39;00m\n\u001b[1;32m    499\u001b[0m \u001b[38;5;66;03m# (possibly timeout=None), we call select() with a timeout.\u001b[39;00m\n\u001b[0;32m--> 500\u001b[0m \u001b[38;5;28;01mif\u001b[39;00m (timeout \u001b[38;5;241m!=\u001b[39m \u001b[38;5;241m0\u001b[39m) \u001b[38;5;129;01mand\u001b[39;00m \u001b[43mselect\u001b[49m\u001b[43m(\u001b[49m\u001b[43mtimeout\u001b[49m\u001b[43m)\u001b[49m:\n\u001b[1;32m    501\u001b[0m     \u001b[38;5;28;01mreturn\u001b[39;00m \u001b[38;5;28msuper\u001b[39m(spawn, \u001b[38;5;28mself\u001b[39m)\u001b[38;5;241m.\u001b[39mread_nonblocking(size)\n",
            "File \u001b[0;32m~/anaconda3/envs/3dgs/lib/python3.10/site-packages/pexpect/pty_spawn.py:450\u001b[0m, in \u001b[0;36mspawn.read_nonblocking.<locals>.select\u001b[0;34m(timeout)\u001b[0m\n\u001b[1;32m    449\u001b[0m \u001b[38;5;28;01mdef\u001b[39;00m\u001b[38;5;250m \u001b[39m\u001b[38;5;21mselect\u001b[39m(timeout):\n\u001b[0;32m--> 450\u001b[0m     \u001b[38;5;28;01mreturn\u001b[39;00m \u001b[43mselect_ignore_interrupts\u001b[49m\u001b[43m(\u001b[49m\u001b[43m[\u001b[49m\u001b[38;5;28;43mself\u001b[39;49m\u001b[38;5;241;43m.\u001b[39;49m\u001b[43mchild_fd\u001b[49m\u001b[43m]\u001b[49m\u001b[43m,\u001b[49m\u001b[43m \u001b[49m\u001b[43m[\u001b[49m\u001b[43m]\u001b[49m\u001b[43m,\u001b[49m\u001b[43m \u001b[49m\u001b[43m[\u001b[49m\u001b[43m]\u001b[49m\u001b[43m,\u001b[49m\u001b[43m \u001b[49m\u001b[43mtimeout\u001b[49m\u001b[43m)\u001b[49m[\u001b[38;5;241m0\u001b[39m]\n",
            "File \u001b[0;32m~/anaconda3/envs/3dgs/lib/python3.10/site-packages/pexpect/utils.py:143\u001b[0m, in \u001b[0;36mselect_ignore_interrupts\u001b[0;34m(iwtd, owtd, ewtd, timeout)\u001b[0m\n\u001b[1;32m    142\u001b[0m \u001b[38;5;28;01mtry\u001b[39;00m:\n\u001b[0;32m--> 143\u001b[0m     \u001b[38;5;28;01mreturn\u001b[39;00m \u001b[43mselect\u001b[49m\u001b[38;5;241;43m.\u001b[39;49m\u001b[43mselect\u001b[49m\u001b[43m(\u001b[49m\u001b[43miwtd\u001b[49m\u001b[43m,\u001b[49m\u001b[43m \u001b[49m\u001b[43mowtd\u001b[49m\u001b[43m,\u001b[49m\u001b[43m \u001b[49m\u001b[43mewtd\u001b[49m\u001b[43m,\u001b[49m\u001b[43m \u001b[49m\u001b[43mtimeout\u001b[49m\u001b[43m)\u001b[49m\n\u001b[1;32m    144\u001b[0m \u001b[38;5;28;01mexcept\u001b[39;00m \u001b[38;5;167;01mInterruptedError\u001b[39;00m:\n",
            "\u001b[0;31mKeyboardInterrupt\u001b[0m: ",
            "\nDuring handling of the above exception, another exception occurred:\n",
            "\u001b[0;31mKeyboardInterrupt\u001b[0m                         Traceback (most recent call last)",
            "Cell \u001b[0;32mIn[3], line 4\u001b[0m\n\u001b[1;32m      2\u001b[0m get_ipython()\u001b[38;5;241m.\u001b[39mrun_line_magic(\u001b[38;5;124m'\u001b[39m\u001b[38;5;124mcd\u001b[39m\u001b[38;5;124m'\u001b[39m, \u001b[38;5;124m'\u001b[39m\u001b[38;5;132;01m{NVS_DIR}\u001b[39;00m\u001b[38;5;124m'\u001b[39m)\n\u001b[1;32m      3\u001b[0m CKPT_PATH\u001b[38;5;241m=\u001b[39m\u001b[38;5;124m\"\u001b[39m\u001b[38;5;124m/data/ankit_phd/Projects/gsplat/examples/\u001b[39m\u001b[38;5;124m{{\u001b[39m\u001b[38;5;124mOUTPUT_DIR}/ckpts/ckpt_29999_rank0.pt\u001b[39m\u001b[38;5;124m\"\u001b[39m\n\u001b[0;32m----> 4\u001b[0m \u001b[43mget_ipython\u001b[49m\u001b[43m(\u001b[49m\u001b[43m)\u001b[49m\u001b[38;5;241;43m.\u001b[39;49m\u001b[43msystem\u001b[49m\u001b[43m(\u001b[49m\u001b[38;5;124;43m'\u001b[39;49m\u001b[38;5;124;43mCUDA_VISIBLE_DEVICES=1  python simple_viewer.py --ckpt  \u001b[39;49m\u001b[38;5;132;43;01m{CKPT_PATH}\u001b[39;49;00m\u001b[38;5;124;43m --port 8081\u001b[39;49m\u001b[38;5;124;43m'\u001b[39;49m\u001b[43m)\u001b[49m\n",
            "File \u001b[0;32m~/anaconda3/envs/3dgs/lib/python3.10/site-packages/ipykernel/zmqshell.py:685\u001b[0m, in \u001b[0;36mZMQInteractiveShell.system_piped\u001b[0;34m(self, cmd)\u001b[0m\n\u001b[1;32m    683\u001b[0m         \u001b[38;5;28mself\u001b[39m\u001b[38;5;241m.\u001b[39muser_ns[\u001b[38;5;124m\"\u001b[39m\u001b[38;5;124m_exit_code\u001b[39m\u001b[38;5;124m\"\u001b[39m] \u001b[38;5;241m=\u001b[39m system(cmd)\n\u001b[1;32m    684\u001b[0m \u001b[38;5;28;01melse\u001b[39;00m:\n\u001b[0;32m--> 685\u001b[0m     \u001b[38;5;28mself\u001b[39m\u001b[38;5;241m.\u001b[39muser_ns[\u001b[38;5;124m\"\u001b[39m\u001b[38;5;124m_exit_code\u001b[39m\u001b[38;5;124m\"\u001b[39m] \u001b[38;5;241m=\u001b[39m \u001b[43msystem\u001b[49m\u001b[43m(\u001b[49m\u001b[38;5;28;43mself\u001b[39;49m\u001b[38;5;241;43m.\u001b[39;49m\u001b[43mvar_expand\u001b[49m\u001b[43m(\u001b[49m\u001b[43mcmd\u001b[49m\u001b[43m,\u001b[49m\u001b[43m \u001b[49m\u001b[43mdepth\u001b[49m\u001b[38;5;241;43m=\u001b[39;49m\u001b[38;5;241;43m1\u001b[39;49m\u001b[43m)\u001b[49m\u001b[43m)\u001b[49m\n",
            "File \u001b[0;32m~/anaconda3/envs/3dgs/lib/python3.10/site-packages/IPython/utils/_process_posix.py:180\u001b[0m, in \u001b[0;36mProcessHandler.system\u001b[0;34m(self, cmd)\u001b[0m\n\u001b[1;32m    177\u001b[0m         \u001b[38;5;28;01mpass\u001b[39;00m\n\u001b[1;32m    178\u001b[0m     \u001b[38;5;28;01mfinally\u001b[39;00m:\n\u001b[1;32m    179\u001b[0m         \u001b[38;5;66;03m# Ensure the subprocess really is terminated\u001b[39;00m\n\u001b[0;32m--> 180\u001b[0m         \u001b[43mchild\u001b[49m\u001b[38;5;241;43m.\u001b[39;49m\u001b[43mterminate\u001b[49m\u001b[43m(\u001b[49m\u001b[43mforce\u001b[49m\u001b[38;5;241;43m=\u001b[39;49m\u001b[38;5;28;43;01mTrue\u001b[39;49;00m\u001b[43m)\u001b[49m\n\u001b[1;32m    181\u001b[0m \u001b[38;5;66;03m# add isalive check, to ensure exitstatus is set:\u001b[39;00m\n\u001b[1;32m    182\u001b[0m child\u001b[38;5;241m.\u001b[39misalive()\n",
            "File \u001b[0;32m~/anaconda3/envs/3dgs/lib/python3.10/site-packages/pexpect/pty_spawn.py:650\u001b[0m, in \u001b[0;36mspawn.terminate\u001b[0;34m(self, force)\u001b[0m\n\u001b[1;32m    648\u001b[0m     \u001b[38;5;28;01mreturn\u001b[39;00m \u001b[38;5;28;01mTrue\u001b[39;00m\n\u001b[1;32m    649\u001b[0m \u001b[38;5;28mself\u001b[39m\u001b[38;5;241m.\u001b[39mkill(signal\u001b[38;5;241m.\u001b[39mSIGINT)\n\u001b[0;32m--> 650\u001b[0m \u001b[43mtime\u001b[49m\u001b[38;5;241;43m.\u001b[39;49m\u001b[43msleep\u001b[49m\u001b[43m(\u001b[49m\u001b[38;5;28;43mself\u001b[39;49m\u001b[38;5;241;43m.\u001b[39;49m\u001b[43mdelayafterterminate\u001b[49m\u001b[43m)\u001b[49m\n\u001b[1;32m    651\u001b[0m \u001b[38;5;28;01mif\u001b[39;00m \u001b[38;5;129;01mnot\u001b[39;00m \u001b[38;5;28mself\u001b[39m\u001b[38;5;241m.\u001b[39misalive():\n\u001b[1;32m    652\u001b[0m     \u001b[38;5;28;01mreturn\u001b[39;00m \u001b[38;5;28;01mTrue\u001b[39;00m\n",
            "\u001b[0;31mKeyboardInterrupt\u001b[0m: "
          ]
        }
      ]
    }
  ]
}